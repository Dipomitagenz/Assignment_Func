{
  "nbformat": 4,
  "nbformat_minor": 0,
  "metadata": {
    "colab": {
      "provenance": [],
      "authorship_tag": "ABX9TyNVAQExKobvgLwhsUayhzdt",
      "include_colab_link": true
    },
    "kernelspec": {
      "name": "python3",
      "display_name": "Python 3"
    },
    "language_info": {
      "name": "python"
    }
  },
  "cells": [
    {
      "cell_type": "markdown",
      "metadata": {
        "id": "view-in-github",
        "colab_type": "text"
      },
      "source": [
        "<a href=\"https://colab.research.google.com/github/Dipomitagenz/Assignment_Func/blob/main/Assignment_Functions.ipynb\" target=\"_parent\"><img src=\"https://colab.research.google.com/assets/colab-badge.svg\" alt=\"Open In Colab\"/></a>"
      ]
    },
    {
      "cell_type": "markdown",
      "source": [
        "Theory Questions:\n"
      ],
      "metadata": {
        "id": "QZDiMDf5Tfc-"
      }
    },
    {
      "cell_type": "markdown",
      "source": [
        "1. **What is the difference between a function and a method in Python?**"
      ],
      "metadata": {
        "id": "HgQN0J25Ti-K"
      }
    },
    {
      "cell_type": "markdown",
      "source": [
        "In Python, the distinction between a function and a method lies primarily in their association with objects.\n",
        "\n",
        "A function is a structured, reusable code block utilized for carrying out a specific task. Functions facilitate the creation of modular code, simplifying maintenance and reusability.\n",
        "\n",
        "In contrast, a method is a function that is bound to an object, meaning it operates on the object it is called upon and can access the object's data."
      ],
      "metadata": {
        "id": "Gfyra-WzVj_7"
      }
    },
    {
      "cell_type": "markdown",
      "source": [
        "2. **Explain the concept of function arguments and parameters in Python.**"
      ],
      "metadata": {
        "id": "qn0VBNsYV3FT"
      }
    },
    {
      "cell_type": "markdown",
      "source": [
        "In Python, function arguments are values passed to a function when it is called, while parameters are variables declared in the function definition that receive these values.\n",
        "\n",
        "Parameters act as placeholders for the data the function will use. Arguments provide the actual data for the function to operate on.\n",
        "\n",
        "Variables passed into the function. Functions can have multiple parameters or none at all."
      ],
      "metadata": {
        "id": "bBvlApEOqP1f"
      }
    },
    {
      "cell_type": "markdown",
      "source": [
        "**3. What are the different ways to define and call a function in Python?**"
      ],
      "metadata": {
        "id": "Sq3aEgdlqjRQ"
      }
    },
    {
      "cell_type": "markdown",
      "source": [
        "A function is a structured, reusable code block utilized for carrying out a specific task. Functions facilitate the creation of modular code, simplifying maintenance and reusability.\n",
        "\n",
        "Functions in Python can be defined and called in several ways:\n",
        "\n",
        "1. **Standard Function Definition**\n",
        "This is the most common way to define a function, using the def keyword, followed by the function name, parentheses for parameters, and a colon. The function body is indented below. To call the function, use its name followed by parentheses."
      ],
      "metadata": {
        "id": "NH42McPDteKv"
      }
    },
    {
      "cell_type": "code",
      "source": [
        "def greetings(Dipomita):\n",
        "  print(\"Welcome to the office\", Dipomita)\n",
        "greetings(\"Dipomita\")"
      ],
      "metadata": {
        "colab": {
          "base_uri": "https://localhost:8080/"
        },
        "id": "Ex5pcNdUulU7",
        "outputId": "6da3140e-7aac-466a-a5f5-a366a6a2779a"
      },
      "execution_count": 23,
      "outputs": [
        {
          "output_type": "stream",
          "name": "stdout",
          "text": [
            "Welcome to the office Dipomita\n"
          ]
        }
      ]
    },
    {
      "cell_type": "markdown",
      "source": [
        "2. **Lambda Functions (Anonymous Functions)**\n",
        "Lambda functions are small, anonymous functions defined using the lambda keyword. They can take any number of arguments but can only have one expression."
      ],
      "metadata": {
        "id": "z_n0nmoKvu3y"
      }
    },
    {
      "cell_type": "code",
      "source": [
        "add = lambda x, y: x + y\n",
        "print(add(5, 3))"
      ],
      "metadata": {
        "colab": {
          "base_uri": "https://localhost:8080/"
        },
        "id": "BiOvlrNkwA75",
        "outputId": "de2f9b29-03c9-482e-ed7e-46c118d1e763"
      },
      "execution_count": 10,
      "outputs": [
        {
          "output_type": "stream",
          "name": "stdout",
          "text": [
            "8\n"
          ]
        }
      ]
    },
    {
      "cell_type": "markdown",
      "source": [
        "3. **Nested Functions**\n",
        "Functions can be defined inside other functions. The inner function can only be called within the scope of the outer function."
      ],
      "metadata": {
        "id": "jsNpFNPPwU6r"
      }
    },
    {
      "cell_type": "code",
      "source": [
        "def outer_function():\n",
        "    print(\"Outer function\")\n",
        "    def inner_function():\n",
        "        print(\"Inner function\")\n",
        "    inner_function()\n",
        "    outer_function()"
      ],
      "metadata": {
        "id": "v9KtXmJowd3J"
      },
      "execution_count": 15,
      "outputs": []
    },
    {
      "cell_type": "markdown",
      "source": [
        "4. **Functions with Default Arguments**\n",
        "Function parameters can have default values, which are used if the caller doesn't provide a value for that parameter."
      ],
      "metadata": {
        "id": "oGrZ6ZRixDIC"
      }
    },
    {
      "cell_type": "code",
      "source": [
        "def greet(name=\"Guest\"):\n",
        "    print(f\"Hello, {name}!\")\n",
        "greet()"
      ],
      "metadata": {
        "colab": {
          "base_uri": "https://localhost:8080/"
        },
        "id": "_4fnX6wYxLtz",
        "outputId": "05433346-99cb-4512-8e84-61794491aa94"
      },
      "execution_count": 17,
      "outputs": [
        {
          "output_type": "stream",
          "name": "stdout",
          "text": [
            "Hello, Guest!\n"
          ]
        }
      ]
    },
    {
      "cell_type": "markdown",
      "source": [
        "5. Functions with Variable Number of Arguments (*args and **kwargs)\n",
        "\n",
        "*args allows a function to accept any number of positional arguments.\n",
        "**kwargs allows a function to accept any number of keyword arguments."
      ],
      "metadata": {
        "id": "dOq2mMH0x67M"
      }
    },
    {
      "cell_type": "code",
      "source": [
        "def add_all(*args):\n",
        "    return sum(args)\n",
        "\n",
        "print(add_all(1, 2, 3, 4))\n",
        "\n",
        "def print_kwargs(**kwargs):\n",
        "    for key, value in kwargs.items():\n",
        "        print(f\"{key}: {value}\")\n",
        "\n",
        "print_kwargs(name=\"John\", age=30)"
      ],
      "metadata": {
        "colab": {
          "base_uri": "https://localhost:8080/"
        },
        "id": "5qR_4tkyyVpl",
        "outputId": "bef67551-d9b1-42df-e524-125de9d6f37f"
      },
      "execution_count": 19,
      "outputs": [
        {
          "output_type": "stream",
          "name": "stdout",
          "text": [
            "10\n",
            "name: John\n",
            "age: 30\n"
          ]
        }
      ]
    },
    {
      "cell_type": "markdown",
      "source": [
        "**4. What is the purpose of the `return` statement in a Python function?**"
      ],
      "metadata": {
        "id": "ZQH9FQR9yrKf"
      }
    },
    {
      "cell_type": "markdown",
      "source": [
        "The purpose of the \"return\" statement in a Python function is to signal the end of the function's execution and return a value to the caller. It allows functions to produce output by sending back data that can be used in other parts of the program.\n",
        "\n",
        "**Exits the function: **The return statement immediately terminates the function's execution.\n",
        "\n",
        "**Returns a value**: It specifies the value that the function will send back to the code that called it. This value can be anything, including numbers, strings, lists, or even other functions.\n",
        "\n",
        "**Control flow**: When a return statement is encountered, control is transferred back to the caller, and execution continues from where the function was called."
      ],
      "metadata": {
        "id": "Jy7gXDGUyv-_"
      }
    },
    {
      "cell_type": "code",
      "source": [
        "def add_numbers(x, y):\n",
        "    \"\"\"This function adds two numbers and returns the sum.\"\"\"\n",
        "    sum = x + y\n",
        "    return sum # The return statement here sends the calculated sum back to the caller\n",
        "\n",
        "# Calling the function and assigning the returned value\n",
        "result = add_numbers(5, 3)\n",
        "print(result)\n",
        ""
      ],
      "metadata": {
        "colab": {
          "base_uri": "https://localhost:8080/"
        },
        "id": "LkQsK3rF1aJo",
        "outputId": "e39b76aa-7adf-4e94-b6f1-79f506dc18f8"
      },
      "execution_count": 27,
      "outputs": [
        {
          "output_type": "stream",
          "name": "stdout",
          "text": [
            "8\n"
          ]
        }
      ]
    },
    {
      "cell_type": "markdown",
      "source": [
        "**5. What are iterators in Python and how do they differ from iterables?**"
      ],
      "metadata": {
        "id": "x5s2BVsB2cRx"
      }
    },
    {
      "cell_type": "markdown",
      "source": [
        "Iterators:\n",
        "An iterator is an object that allows traversal through a countable number of values. It is used to iterate over iterable objects like lists, tuples, sets, etc.\n",
        "\n",
        "Iterables: Generators return data in an iterable format, allowing the sequence to be iterated over, much like a list or tuple."
      ],
      "metadata": {
        "id": "773r8CEY39CL"
      }
    },
    {
      "cell_type": "markdown",
      "source": [
        "**6. Explain the concept of generators in Python and how they are defined.**"
      ],
      "metadata": {
        "id": "V0AK5U8B6u7x"
      }
    },
    {
      "cell_type": "markdown",
      "source": [
        "Generators:\n",
        "\n",
        "Definition: Generators are a simple way to create iterators using functions and the yield keyword instead of returning values.\n",
        "Key Points:\n",
        "\n",
        "yield Keyword:\n",
        "Yield vs. Return: Unlike the return statement, which exits the function, yield returns a value and pauses the function’s state, allowing it to resume from where it left off.\n",
        "Multiple Yields: Functions can yield multiple values over time, producing a sequence of results.\n",
        "Lazy Evaluation:\n",
        "\n",
        "On-Demand Data: Generators produce values one at a time and only when required, avoiding the need to generate or store all values upfront.\n",
        "Memory Efficiency: Since values are generated as needed and not all at once, generators use minimal memory.\n",
        "Characteristics:\n",
        "\n",
        "Iterables: Generators return data in an iterable format, allowing the sequence to be iterated over, much like a list or tuple.\n",
        "Advantages:\n",
        "\n",
        "Efficient Memory Usage: Generators do not store the entire sequence in memory, making them suitable for large datasets or infinite sequences.\n",
        "Simpler Syntax: Using yield simplifies the creation of iterators, making the code more concise and readable."
      ],
      "metadata": {
        "id": "UThDcCc060qJ"
      }
    },
    {
      "cell_type": "markdown",
      "source": [
        "**7. What are the advantages of using generators over regular functions?**"
      ],
      "metadata": {
        "id": "DUhu1BcY8OTK"
      }
    },
    {
      "cell_type": "markdown",
      "source": [
        "Advantages of using generators over regular functions:\n",
        "\n",
        "Efficient Memory Usage: Generators do not store the entire sequence in memory, making them suitable for large datasets or infinite sequences.\n",
        "Simpler Syntax: Using yield simplifies the creation of iterators, making the code more concise and readable."
      ],
      "metadata": {
        "id": "bqLBeXId8Tgq"
      }
    },
    {
      "cell_type": "markdown",
      "source": [
        "**8. What is a lambda function in Python and when is it typically used?**"
      ],
      "metadata": {
        "id": "NvufBZWL8f4c"
      }
    },
    {
      "cell_type": "markdown",
      "source": [
        "Lambda Functions:\n",
        "\n",
        "\n",
        "\n",
        "Definition: Lambda functions are small, anonymous functions defined using the lambda keyword. They are used for creating small, throwaway functions without the need to formally define a function using def.\n",
        "\n"
      ],
      "metadata": {
        "id": "e3d_QIWz8kMR"
      }
    },
    {
      "cell_type": "code",
      "source": [
        "add = lambda x, y: x + y\n",
        "print(add(5, 3))"
      ],
      "metadata": {
        "colab": {
          "base_uri": "https://localhost:8080/"
        },
        "id": "2q_l0f3r86Cb",
        "outputId": "b4bec137-d12c-4e88-ad14-50c64124d92c"
      },
      "execution_count": 30,
      "outputs": [
        {
          "output_type": "stream",
          "name": "stdout",
          "text": [
            "8\n"
          ]
        }
      ]
    },
    {
      "cell_type": "markdown",
      "source": [
        "**9. Explain the purpose and usage of the `map()` function in Python.**"
      ],
      "metadata": {
        "id": "WaI2vGK69A_V"
      }
    },
    {
      "cell_type": "markdown",
      "source": [
        "Definition: The map function applies a given function to all items in an input iterable (like a list) and returns an iterator with the results.\n",
        "\n",
        "Key Points:\n",
        "\n",
        "Transformation: Used to transform each item in an iterable by applying the specified function."
      ],
      "metadata": {
        "id": "SWO3U8Px9Ih6"
      }
    },
    {
      "cell_type": "code",
      "source": [
        "numbers=[5,6,8,10]\n",
        "squared=map(lambda x:x * x,numbers)\n",
        "print(list(squared))"
      ],
      "metadata": {
        "colab": {
          "base_uri": "https://localhost:8080/"
        },
        "id": "4Jq_oalG9Stc",
        "outputId": "4ae03703-c1aa-4f0d-8bce-9538b7691f2d"
      },
      "execution_count": 31,
      "outputs": [
        {
          "output_type": "stream",
          "name": "stdout",
          "text": [
            "[25, 36, 64, 100]\n"
          ]
        }
      ]
    },
    {
      "cell_type": "markdown",
      "source": [
        "**10. What is the difference between `map()`, `reduce()`, and `filter()` functions in Python?**"
      ],
      "metadata": {
        "id": "LTXsMH_492yq"
      }
    },
    {
      "cell_type": "markdown",
      "source": [
        "**Map Functions:**\n",
        "\n",
        "\n",
        "\n",
        "Definition: The map function applies a given function to all items in an input iterable (like a list) and returns an iterator with the results.\n",
        "\n",
        "Key Points:\n",
        "\n",
        "Transformation: Used to transform each item in an iterable by applying the specified function.\n",
        "\n",
        "**Reduce Functions:**\n",
        "\n",
        "Definition: The reduce function from the functools module applies a given function cumulatively to the items of a sequence, from left to right, to reduce the sequence to a single value.\n",
        "\n",
        "Key Points:\n",
        "\n",
        "Cumulative Operation: It reduces an iterable to a single cumulative value by applying the function cumulatively.\n",
        "\n",
        "**Filter Functions:**\n",
        "\n",
        "Definition: The filter function constructs an iterator from elements of an iterable for which a specified function returns True.\n",
        "\n",
        "Key Points:\n",
        "\n",
        "Selection: Used for filtering elements from an iterable based on a condition defined by the function."
      ],
      "metadata": {
        "id": "kA2mIuAd97J0"
      }
    },
    {
      "cell_type": "markdown",
      "source": [
        "11. Using pen & Paper write the internal mechanism for sum operation using  reduce function on this given\n",
        "list:[47,11,42,13]"
      ],
      "metadata": {
        "id": "o1tPFSKY-R2E"
      }
    },
    {
      "cell_type": "markdown",
      "source": [
        "Definition: The reduce function from the functools module applies a given function cumulatively to the items of a sequence, from left to right, to reduce the sequence to a single value.\n",
        "\n",
        "Key Points:\n",
        "\n",
        "Cumulative Operation: It reduces an iterable to a single cumulative value by applying the function cumulatively.\n",
        "Syntax:\n",
        "\n",
        "from functools import reduce\n",
        "\n",
        "reduce(function, iterable)"
      ],
      "metadata": {
        "id": "wrhvn91OHAW_"
      }
    },
    {
      "cell_type": "code",
      "source": [
        "from functools import reduce\n",
        "\n",
        "numbers=[47,11,42,13]\n",
        "sum=reduce(lambda x,y:x+y,numbers)\n",
        "print(sum)"
      ],
      "metadata": {
        "colab": {
          "base_uri": "https://localhost:8080/"
        },
        "id": "GBWSc2F4HCAW",
        "outputId": "c6eea7e9-e048-42a9-bb46-21d2440c06e5"
      },
      "execution_count": 33,
      "outputs": [
        {
          "output_type": "stream",
          "name": "stdout",
          "text": [
            "113\n"
          ]
        }
      ]
    },
    {
      "cell_type": "code",
      "source": [],
      "metadata": {
        "id": "MXzqGbG4G5QW"
      },
      "execution_count": null,
      "outputs": []
    },
    {
      "cell_type": "code",
      "source": [],
      "metadata": {
        "id": "FG9TMn_K7Y4J"
      },
      "execution_count": null,
      "outputs": []
    },
    {
      "cell_type": "code",
      "source": [],
      "metadata": {
        "id": "46xa-uQFyMW4"
      },
      "execution_count": null,
      "outputs": []
    },
    {
      "cell_type": "code",
      "source": [],
      "metadata": {
        "id": "z7fGCLkix0Kr"
      },
      "execution_count": null,
      "outputs": []
    },
    {
      "cell_type": "markdown",
      "source": [],
      "metadata": {
        "id": "2G2xpN1-tTYL"
      }
    },
    {
      "cell_type": "code",
      "source": [],
      "metadata": {
        "id": "NGMrVEV8oxX3"
      },
      "execution_count": null,
      "outputs": []
    },
    {
      "cell_type": "code",
      "source": [],
      "metadata": {
        "id": "pFxYxjM_Tid6"
      },
      "execution_count": null,
      "outputs": []
    }
  ]
}