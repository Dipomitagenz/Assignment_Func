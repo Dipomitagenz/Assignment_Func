{
  "nbformat": 4,
  "nbformat_minor": 0,
  "metadata": {
    "colab": {
      "provenance": [],
      "authorship_tag": "ABX9TyOrfUNWn1SfXp6eW0XSnbPe",
      "include_colab_link": true
    },
    "kernelspec": {
      "name": "python3",
      "display_name": "Python 3"
    },
    "language_info": {
      "name": "python"
    }
  },
  "cells": [
    {
      "cell_type": "markdown",
      "metadata": {
        "id": "view-in-github",
        "colab_type": "text"
      },
      "source": [
        "<a href=\"https://colab.research.google.com/github/Dipomitagenz/Assignment_Func/blob/main/Assignment_Functions.ipynb\" target=\"_parent\"><img src=\"https://colab.research.google.com/assets/colab-badge.svg\" alt=\"Open In Colab\"/></a>"
      ]
    },
    {
      "cell_type": "markdown",
      "source": [
        "Theory Questions:\n"
      ],
      "metadata": {
        "id": "QZDiMDf5Tfc-"
      }
    },
    {
      "cell_type": "markdown",
      "source": [
        "1. **What is the difference between a function and a method in Python?**"
      ],
      "metadata": {
        "id": "HgQN0J25Ti-K"
      }
    },
    {
      "cell_type": "markdown",
      "source": [
        "In Python, the distinction between a function and a method lies primarily in their association with objects.\n",
        "\n",
        "A function is a structured, reusable code block utilized for carrying out a specific task. Functions facilitate the creation of modular code, simplifying maintenance and reusability.\n",
        "\n",
        "In contrast, a method is a function that is bound to an object, meaning it operates on the object it is called upon and can access the object's data."
      ],
      "metadata": {
        "id": "Gfyra-WzVj_7"
      }
    },
    {
      "cell_type": "markdown",
      "source": [
        "2. **Explain the concept of function arguments and parameters in Python.**"
      ],
      "metadata": {
        "id": "qn0VBNsYV3FT"
      }
    },
    {
      "cell_type": "markdown",
      "source": [
        "In Python, function arguments are values passed to a function when it is called, while parameters are variables declared in the function definition that receive these values.\n",
        "\n",
        "Parameters act as placeholders for the data the function will use. Arguments provide the actual data for the function to operate on.\n",
        "\n",
        "Variables passed into the function. Functions can have multiple parameters or none at all."
      ],
      "metadata": {
        "id": "bBvlApEOqP1f"
      }
    },
    {
      "cell_type": "markdown",
      "source": [
        "**3. What are the different ways to define and call a function in Python?**"
      ],
      "metadata": {
        "id": "Sq3aEgdlqjRQ"
      }
    },
    {
      "cell_type": "markdown",
      "source": [
        "A function is a structured, reusable code block utilized for carrying out a specific task. Functions facilitate the creation of modular code, simplifying maintenance and reusability.\n",
        "\n",
        "Functions in Python can be defined and called in several ways:\n",
        "\n",
        "1. **Standard Function Definition**\n",
        "This is the most common way to define a function, using the def keyword, followed by the function name, parentheses for parameters, and a colon. The function body is indented below. To call the function, use its name followed by parentheses."
      ],
      "metadata": {
        "id": "NH42McPDteKv"
      }
    },
    {
      "cell_type": "code",
      "source": [
        "def greetings(Dipomita):\n",
        "  print(\"Welcome to the office\", Dipomita)\n",
        "greetings(\"Dipomita\")"
      ],
      "metadata": {
        "colab": {
          "base_uri": "https://localhost:8080/"
        },
        "id": "Ex5pcNdUulU7",
        "outputId": "6da3140e-7aac-466a-a5f5-a366a6a2779a"
      },
      "execution_count": null,
      "outputs": [
        {
          "output_type": "stream",
          "name": "stdout",
          "text": [
            "Welcome to the office Dipomita\n"
          ]
        }
      ]
    },
    {
      "cell_type": "markdown",
      "source": [
        "2. **Lambda Functions (Anonymous Functions)**\n",
        "Lambda functions are small, anonymous functions defined using the lambda keyword. They can take any number of arguments but can only have one expression."
      ],
      "metadata": {
        "id": "z_n0nmoKvu3y"
      }
    },
    {
      "cell_type": "code",
      "source": [
        "add = lambda x, y: x + y\n",
        "print(add(5, 3))"
      ],
      "metadata": {
        "colab": {
          "base_uri": "https://localhost:8080/"
        },
        "id": "BiOvlrNkwA75",
        "outputId": "de2f9b29-03c9-482e-ed7e-46c118d1e763"
      },
      "execution_count": null,
      "outputs": [
        {
          "output_type": "stream",
          "name": "stdout",
          "text": [
            "8\n"
          ]
        }
      ]
    },
    {
      "cell_type": "markdown",
      "source": [
        "3. **Nested Functions**\n",
        "Functions can be defined inside other functions. The inner function can only be called within the scope of the outer function."
      ],
      "metadata": {
        "id": "jsNpFNPPwU6r"
      }
    },
    {
      "cell_type": "code",
      "source": [
        "def outer_function():\n",
        "    print(\"Outer function\")\n",
        "    def inner_function():\n",
        "        print(\"Inner function\")\n",
        "    inner_function()\n",
        "    outer_function()"
      ],
      "metadata": {
        "id": "v9KtXmJowd3J"
      },
      "execution_count": null,
      "outputs": []
    },
    {
      "cell_type": "markdown",
      "source": [
        "4. **Functions with Default Arguments**\n",
        "Function parameters can have default values, which are used if the caller doesn't provide a value for that parameter."
      ],
      "metadata": {
        "id": "oGrZ6ZRixDIC"
      }
    },
    {
      "cell_type": "code",
      "source": [
        "def greet(name=\"Guest\"):\n",
        "    print(f\"Hello, {name}!\")\n",
        "greet()"
      ],
      "metadata": {
        "colab": {
          "base_uri": "https://localhost:8080/"
        },
        "id": "_4fnX6wYxLtz",
        "outputId": "05433346-99cb-4512-8e84-61794491aa94"
      },
      "execution_count": null,
      "outputs": [
        {
          "output_type": "stream",
          "name": "stdout",
          "text": [
            "Hello, Guest!\n"
          ]
        }
      ]
    },
    {
      "cell_type": "markdown",
      "source": [
        "5. Functions with Variable Number of Arguments (*args and **kwargs)\n",
        "\n",
        "*args allows a function to accept any number of positional arguments.\n",
        "**kwargs allows a function to accept any number of keyword arguments."
      ],
      "metadata": {
        "id": "dOq2mMH0x67M"
      }
    },
    {
      "cell_type": "code",
      "source": [
        "def add_all(*args):\n",
        "    return sum(args)\n",
        "\n",
        "print(add_all(1, 2, 3, 4))\n",
        "\n",
        "def print_kwargs(**kwargs):\n",
        "    for key, value in kwargs.items():\n",
        "        print(f\"{key}: {value}\")\n",
        "\n",
        "print_kwargs(name=\"John\", age=30)"
      ],
      "metadata": {
        "colab": {
          "base_uri": "https://localhost:8080/"
        },
        "id": "5qR_4tkyyVpl",
        "outputId": "bef67551-d9b1-42df-e524-125de9d6f37f"
      },
      "execution_count": null,
      "outputs": [
        {
          "output_type": "stream",
          "name": "stdout",
          "text": [
            "10\n",
            "name: John\n",
            "age: 30\n"
          ]
        }
      ]
    },
    {
      "cell_type": "markdown",
      "source": [
        "**4. What is the purpose of the `return` statement in a Python function?**"
      ],
      "metadata": {
        "id": "ZQH9FQR9yrKf"
      }
    },
    {
      "cell_type": "markdown",
      "source": [
        "The purpose of the \"return\" statement in a Python function is to signal the end of the function's execution and return a value to the caller. It allows functions to produce output by sending back data that can be used in other parts of the program.\n",
        "\n",
        "**Exits the function: **The return statement immediately terminates the function's execution.\n",
        "\n",
        "**Returns a value**: It specifies the value that the function will send back to the code that called it. This value can be anything, including numbers, strings, lists, or even other functions.\n",
        "\n",
        "**Control flow**: When a return statement is encountered, control is transferred back to the caller, and execution continues from where the function was called."
      ],
      "metadata": {
        "id": "Jy7gXDGUyv-_"
      }
    },
    {
      "cell_type": "code",
      "source": [
        "def add_numbers(x, y):\n",
        "    \"\"\"This function adds two numbers and returns the sum.\"\"\"\n",
        "    sum = x + y\n",
        "    return sum # The return statement here sends the calculated sum back to the caller\n",
        "\n",
        "# Calling the function and assigning the returned value\n",
        "result = add_numbers(5, 3)\n",
        "print(result)\n"
      ],
      "metadata": {
        "colab": {
          "base_uri": "https://localhost:8080/"
        },
        "id": "LkQsK3rF1aJo",
        "outputId": "e39b76aa-7adf-4e94-b6f1-79f506dc18f8"
      },
      "execution_count": null,
      "outputs": [
        {
          "output_type": "stream",
          "name": "stdout",
          "text": [
            "8\n"
          ]
        }
      ]
    },
    {
      "cell_type": "markdown",
      "source": [
        "**5. What are iterators in Python and how do they differ from iterables?**"
      ],
      "metadata": {
        "id": "x5s2BVsB2cRx"
      }
    },
    {
      "cell_type": "markdown",
      "source": [
        "Iterators:\n",
        "An iterator is an object that allows traversal through a countable number of values. It is used to iterate over iterable objects like lists, tuples, sets, etc.\n",
        "\n",
        "Iterables: Generators return data in an iterable format, allowing the sequence to be iterated over, much like a list or tuple."
      ],
      "metadata": {
        "id": "773r8CEY39CL"
      }
    },
    {
      "cell_type": "markdown",
      "source": [
        "**6. Explain the concept of generators in Python and how they are defined.**"
      ],
      "metadata": {
        "id": "V0AK5U8B6u7x"
      }
    },
    {
      "cell_type": "markdown",
      "source": [
        "Generators:\n",
        "\n",
        "Definition: Generators are a simple way to create iterators using functions and the yield keyword instead of returning values.\n",
        "Key Points:\n",
        "\n",
        "yield Keyword:\n",
        "Yield vs. Return: Unlike the return statement, which exits the function, yield returns a value and pauses the function’s state, allowing it to resume from where it left off.\n",
        "Multiple Yields: Functions can yield multiple values over time, producing a sequence of results.\n",
        "Lazy Evaluation:\n",
        "\n",
        "On-Demand Data: Generators produce values one at a time and only when required, avoiding the need to generate or store all values upfront.\n",
        "Memory Efficiency: Since values are generated as needed and not all at once, generators use minimal memory.\n",
        "Characteristics:\n",
        "\n",
        "Iterables: Generators return data in an iterable format, allowing the sequence to be iterated over, much like a list or tuple.\n",
        "Advantages:\n",
        "\n",
        "Efficient Memory Usage: Generators do not store the entire sequence in memory, making them suitable for large datasets or infinite sequences.\n",
        "Simpler Syntax: Using yield simplifies the creation of iterators, making the code more concise and readable."
      ],
      "metadata": {
        "id": "UThDcCc060qJ"
      }
    },
    {
      "cell_type": "markdown",
      "source": [
        "**7. What are the advantages of using generators over regular functions?**"
      ],
      "metadata": {
        "id": "DUhu1BcY8OTK"
      }
    },
    {
      "cell_type": "markdown",
      "source": [
        "Advantages of using generators over regular functions:\n",
        "\n",
        "Efficient Memory Usage: Generators do not store the entire sequence in memory, making them suitable for large datasets or infinite sequences.\n",
        "Simpler Syntax: Using yield simplifies the creation of iterators, making the code more concise and readable."
      ],
      "metadata": {
        "id": "bqLBeXId8Tgq"
      }
    },
    {
      "cell_type": "markdown",
      "source": [
        "**8. What is a lambda function in Python and when is it typically used?**"
      ],
      "metadata": {
        "id": "NvufBZWL8f4c"
      }
    },
    {
      "cell_type": "markdown",
      "source": [
        "Lambda Functions:\n",
        "\n",
        "\n",
        "\n",
        "Definition: Lambda functions are small, anonymous functions defined using the lambda keyword. They are used for creating small, throwaway functions without the need to formally define a function using def.\n",
        "\n"
      ],
      "metadata": {
        "id": "e3d_QIWz8kMR"
      }
    },
    {
      "cell_type": "code",
      "source": [
        "add = lambda x, y: x + y\n",
        "print(add(5, 3))"
      ],
      "metadata": {
        "colab": {
          "base_uri": "https://localhost:8080/"
        },
        "id": "2q_l0f3r86Cb",
        "outputId": "b4bec137-d12c-4e88-ad14-50c64124d92c"
      },
      "execution_count": null,
      "outputs": [
        {
          "output_type": "stream",
          "name": "stdout",
          "text": [
            "8\n"
          ]
        }
      ]
    },
    {
      "cell_type": "markdown",
      "source": [
        "**9. Explain the purpose and usage of the `map()` function in Python.**"
      ],
      "metadata": {
        "id": "WaI2vGK69A_V"
      }
    },
    {
      "cell_type": "markdown",
      "source": [
        "Definition: The map function applies a given function to all items in an input iterable (like a list) and returns an iterator with the results.\n",
        "\n",
        "Key Points:\n",
        "\n",
        "Transformation: Used to transform each item in an iterable by applying the specified function."
      ],
      "metadata": {
        "id": "SWO3U8Px9Ih6"
      }
    },
    {
      "cell_type": "code",
      "source": [
        "numbers=[5,6,8,10]\n",
        "squared=map(lambda x:x * x,numbers)\n",
        "print(list(squared))"
      ],
      "metadata": {
        "colab": {
          "base_uri": "https://localhost:8080/"
        },
        "id": "4Jq_oalG9Stc",
        "outputId": "4ae03703-c1aa-4f0d-8bce-9538b7691f2d"
      },
      "execution_count": null,
      "outputs": [
        {
          "output_type": "stream",
          "name": "stdout",
          "text": [
            "[25, 36, 64, 100]\n"
          ]
        }
      ]
    },
    {
      "cell_type": "markdown",
      "source": [
        "**10. What is the difference between `map()`, `reduce()`, and `filter()` functions in Python?**"
      ],
      "metadata": {
        "id": "LTXsMH_492yq"
      }
    },
    {
      "cell_type": "markdown",
      "source": [
        "**Map Functions:**\n",
        "\n",
        "\n",
        "\n",
        "Definition: The map function applies a given function to all items in an input iterable (like a list) and returns an iterator with the results.\n",
        "\n",
        "Key Points:\n",
        "\n",
        "Transformation: Used to transform each item in an iterable by applying the specified function.\n",
        "\n",
        "**Reduce Functions:**\n",
        "\n",
        "Definition: The reduce function from the functools module applies a given function cumulatively to the items of a sequence, from left to right, to reduce the sequence to a single value.\n",
        "\n",
        "Key Points:\n",
        "\n",
        "Cumulative Operation: It reduces an iterable to a single cumulative value by applying the function cumulatively.\n",
        "\n",
        "**Filter Functions:**\n",
        "\n",
        "Definition: The filter function constructs an iterator from elements of an iterable for which a specified function returns True.\n",
        "\n",
        "Key Points:\n",
        "\n",
        "Selection: Used for filtering elements from an iterable based on a condition defined by the function."
      ],
      "metadata": {
        "id": "kA2mIuAd97J0"
      }
    },
    {
      "cell_type": "markdown",
      "source": [
        "11. Using pen & Paper write the internal mechanism for sum operation using  reduce function on this given\n",
        "list:[47,11,42,13]"
      ],
      "metadata": {
        "id": "o1tPFSKY-R2E"
      }
    },
    {
      "cell_type": "markdown",
      "source": [
        "Definition: The reduce function from the functools module applies a given function cumulatively to the items of a sequence, from left to right, to reduce the sequence to a single value.\n",
        "\n",
        "Key Points:\n",
        "\n",
        "Cumulative Operation: It reduces an iterable to a single cumulative value by applying the function cumulatively.\n",
        "Syntax:\n",
        "\n",
        "from functools import reduce\n",
        "\n",
        "reduce(function, iterable)"
      ],
      "metadata": {
        "id": "wrhvn91OHAW_"
      }
    },
    {
      "cell_type": "code",
      "source": [
        "from functools import reduce\n",
        "\n",
        "numbers=[47,11,42,13]\n",
        "sum=reduce(lambda x,y:x+y,numbers)\n",
        "print(sum)"
      ],
      "metadata": {
        "colab": {
          "base_uri": "https://localhost:8080/"
        },
        "id": "GBWSc2F4HCAW",
        "outputId": "c6eea7e9-e048-42a9-bb46-21d2440c06e5"
      },
      "execution_count": null,
      "outputs": [
        {
          "output_type": "stream",
          "name": "stdout",
          "text": [
            "113\n"
          ]
        }
      ]
    },
    {
      "cell_type": "markdown",
      "source": [
        "**Practical Questions:**"
      ],
      "metadata": {
        "id": "WsDnYP_npNxZ"
      }
    },
    {
      "cell_type": "markdown",
      "source": [
        "1. Write a Python function that takes a list of numbers as input and returns the sum of all even numbers in\n",
        "the list."
      ],
      "metadata": {
        "id": "yJ4tTF27pgN3"
      }
    },
    {
      "cell_type": "code",
      "source": [
        "def add_numbers(a,b,c,d,e):\n",
        "    \"\"\"This function adds two numbers and returns the sum.\"\"\"\n",
        "    sum = a + b+c+d+e\n",
        "    return sum # The return statement here sends the calculated sum back to the caller\n",
        "\n",
        "# Calling the function and assigning the returned value\n",
        "result = add_numbers(2,4,6,8,10)\n",
        "print(result)"
      ],
      "metadata": {
        "id": "FG9TMn_K7Y4J",
        "colab": {
          "base_uri": "https://localhost:8080/"
        },
        "outputId": "2a3fac5d-45e2-4de7-d920-eadd3d08120b"
      },
      "execution_count": 3,
      "outputs": [
        {
          "output_type": "stream",
          "name": "stdout",
          "text": [
            "30\n"
          ]
        }
      ]
    },
    {
      "cell_type": "markdown",
      "source": [
        "**2. Create a Python function that accepts a string and returns the reverse of that string.**"
      ],
      "metadata": {
        "id": "fKEpRy5Dr1VI"
      }
    },
    {
      "cell_type": "code",
      "source": [
        "def func():\n",
        "    print(\"This is my first function\")\n",
        "func()\n",
        "\n",
        ""
      ],
      "metadata": {
        "colab": {
          "base_uri": "https://localhost:8080/"
        },
        "id": "LPY7IaDOr8c3",
        "outputId": "60240071-71a5-414c-f90f-ece060c1b771"
      },
      "execution_count": 7,
      "outputs": [
        {
          "output_type": "stream",
          "name": "stdout",
          "text": [
            "This is my first function\n"
          ]
        }
      ]
    },
    {
      "cell_type": "code",
      "source": [
        "def func():\n",
        "    return(\"This is my first function\" + \"in python\")\n",
        "func()"
      ],
      "metadata": {
        "colab": {
          "base_uri": "https://localhost:8080/",
          "height": 35
        },
        "id": "vTOycHJVuEHY",
        "outputId": "699a4732-267d-4438-e6b5-983ce18a6922"
      },
      "execution_count": 9,
      "outputs": [
        {
          "output_type": "execute_result",
          "data": {
            "text/plain": [
              "'This is my first functionin python'"
            ],
            "application/vnd.google.colaboratory.intrinsic+json": {
              "type": "string"
            }
          },
          "metadata": {},
          "execution_count": 9
        }
      ]
    },
    {
      "cell_type": "markdown",
      "source": [
        "3. Implement a Python function that takes a list of integers and returns a new list containing the squares of\n",
        "each number ."
      ],
      "metadata": {
        "id": "mSPp6OWwvIaa"
      }
    },
    {
      "cell_type": "code",
      "source": [
        "numbers=[5,6,8,10]\n",
        "squared=map(lambda x:x * x,numbers)\n",
        "print(list(squared))"
      ],
      "metadata": {
        "colab": {
          "base_uri": "https://localhost:8080/"
        },
        "id": "DUI8x4eswVMQ",
        "outputId": "8bc0cffc-1222-4f41-9168-a27259e17abc"
      },
      "execution_count": 12,
      "outputs": [
        {
          "output_type": "stream",
          "name": "stdout",
          "text": [
            "[25, 36, 64, 100]\n"
          ]
        }
      ]
    },
    {
      "cell_type": "code",
      "source": [
        "def square_numbers(args):\n",
        "    return args*args\n",
        "\n",
        "square_numbers(10)"
      ],
      "metadata": {
        "colab": {
          "base_uri": "https://localhost:8080/"
        },
        "id": "4m6-TU59vjRg",
        "outputId": "0bca4d0b-b7bc-48dc-88eb-b534fe89beef"
      },
      "execution_count": 11,
      "outputs": [
        {
          "output_type": "execute_result",
          "data": {
            "text/plain": [
              "100"
            ]
          },
          "metadata": {},
          "execution_count": 11
        }
      ]
    },
    {
      "cell_type": "markdown",
      "source": [
        "**4. Write a Python function that checks if a given number is prime or not from 1 to 200.**\n",
        "\n",
        "\n"
      ],
      "metadata": {
        "id": "N7UHkyIjwavI"
      }
    },
    {
      "cell_type": "code",
      "source": [
        "from sympy import *\n",
        "\n",
        "g1 = isprime(13)\n",
        "g2 = isprime(17)\n",
        "g3 = isprime(19)\n",
        "g4 = isprime(23)\n",
        "g5 = isprime(33)\n",
        "g6 = isprime(83)\n",
        "g7 = isprime(103)\n",
        "g8 = isprime(107)\n",
        "g9 = isprime(108)\n",
        "g10 = isprime(199)\n",
        "\n",
        "print(g1)\n",
        "print(g2)\n",
        "print(g3)\n",
        "print(g4)\n",
        "print(g5)\n",
        "print(g6)\n",
        "print(g7)\n",
        "print(g8)\n",
        "print(g9)\n",
        "print(g10)"
      ],
      "metadata": {
        "colab": {
          "base_uri": "https://localhost:8080/"
        },
        "id": "wmA9qno4y2JJ",
        "outputId": "cdac2b40-6f2d-40ef-d0e4-e59b25a0e457"
      },
      "execution_count": 16,
      "outputs": [
        {
          "output_type": "stream",
          "name": "stdout",
          "text": [
            "True\n",
            "True\n",
            "True\n",
            "True\n",
            "False\n",
            "True\n",
            "True\n",
            "True\n",
            "False\n",
            "True\n"
          ]
        }
      ]
    },
    {
      "cell_type": "markdown",
      "source": [
        "5. Create an iterator class in Python that generates the Fibonacci sequence up to a specified number of\n",
        "terms."
      ],
      "metadata": {
        "id": "EUPtTmcoL8ME"
      }
    },
    {
      "cell_type": "code",
      "source": [
        "def fib(n):\n",
        "    a=0\n",
        "    b=1\n",
        "    for i in range(10):\n",
        "        yield a\n",
        "\n",
        "        a,b=b,a+b\n",
        "\n",
        "    f=fib(10)\n",
        "f=fib(10)"
      ],
      "metadata": {
        "id": "87JAlwj8T0jm"
      },
      "execution_count": 32,
      "outputs": []
    },
    {
      "cell_type": "code",
      "source": [
        "f=fib(10)"
      ],
      "metadata": {
        "id": "zCkYvJoMWjIA"
      },
      "execution_count": 33,
      "outputs": []
    },
    {
      "cell_type": "code",
      "source": [
        "next(f)"
      ],
      "metadata": {
        "colab": {
          "base_uri": "https://localhost:8080/"
        },
        "id": "GSZ0a1TaXdLl",
        "outputId": "b042a7cb-8658-4f33-a998-c9bdecf73148"
      },
      "execution_count": 34,
      "outputs": [
        {
          "output_type": "execute_result",
          "data": {
            "text/plain": [
              "0"
            ]
          },
          "metadata": {},
          "execution_count": 34
        }
      ]
    },
    {
      "cell_type": "code",
      "source": [
        "next(f)"
      ],
      "metadata": {
        "colab": {
          "base_uri": "https://localhost:8080/"
        },
        "id": "-w6TOAG1XfEW",
        "outputId": "cdd4cdc3-5922-4cbd-cef0-2ca6e762cd91"
      },
      "execution_count": 35,
      "outputs": [
        {
          "output_type": "execute_result",
          "data": {
            "text/plain": [
              "1"
            ]
          },
          "metadata": {},
          "execution_count": 35
        }
      ]
    },
    {
      "cell_type": "code",
      "source": [
        "next(f)"
      ],
      "metadata": {
        "colab": {
          "base_uri": "https://localhost:8080/"
        },
        "id": "8tiGUstOXhMe",
        "outputId": "4475ced4-e60f-47bd-afb3-07bbe3e8e32d"
      },
      "execution_count": 36,
      "outputs": [
        {
          "output_type": "execute_result",
          "data": {
            "text/plain": [
              "1"
            ]
          },
          "metadata": {},
          "execution_count": 36
        }
      ]
    },
    {
      "cell_type": "code",
      "source": [
        "next(f)"
      ],
      "metadata": {
        "colab": {
          "base_uri": "https://localhost:8080/"
        },
        "id": "otT42oPPXjjP",
        "outputId": "81ceceab-3cac-4b74-bc8a-242f71b727a2"
      },
      "execution_count": 37,
      "outputs": [
        {
          "output_type": "execute_result",
          "data": {
            "text/plain": [
              "2"
            ]
          },
          "metadata": {},
          "execution_count": 37
        }
      ]
    },
    {
      "cell_type": "code",
      "source": [
        "next(f)"
      ],
      "metadata": {
        "colab": {
          "base_uri": "https://localhost:8080/"
        },
        "id": "rka50-mQXlUw",
        "outputId": "13db9a5b-0828-4105-d761-beff36baecf3"
      },
      "execution_count": 38,
      "outputs": [
        {
          "output_type": "execute_result",
          "data": {
            "text/plain": [
              "3"
            ]
          },
          "metadata": {},
          "execution_count": 38
        }
      ]
    },
    {
      "cell_type": "code",
      "source": [
        "next(f)"
      ],
      "metadata": {
        "colab": {
          "base_uri": "https://localhost:8080/"
        },
        "id": "Qhh36O3-Xn7G",
        "outputId": "d2b66eca-76e6-4de5-d87d-d2cf49f653cb"
      },
      "execution_count": 39,
      "outputs": [
        {
          "output_type": "execute_result",
          "data": {
            "text/plain": [
              "5"
            ]
          },
          "metadata": {},
          "execution_count": 39
        }
      ]
    },
    {
      "cell_type": "code",
      "source": [
        "next(f)"
      ],
      "metadata": {
        "colab": {
          "base_uri": "https://localhost:8080/"
        },
        "id": "Xe8_ebB-Xpg8",
        "outputId": "ea7c3d9e-f281-4c6a-9f3c-a89f5ad2891d"
      },
      "execution_count": 40,
      "outputs": [
        {
          "output_type": "execute_result",
          "data": {
            "text/plain": [
              "8"
            ]
          },
          "metadata": {},
          "execution_count": 40
        }
      ]
    },
    {
      "cell_type": "code",
      "source": [
        "next(f)"
      ],
      "metadata": {
        "colab": {
          "base_uri": "https://localhost:8080/"
        },
        "id": "Jb1zvcy4XsAP",
        "outputId": "891a5f48-3438-4859-8e8e-008e9c0c8031"
      },
      "execution_count": 41,
      "outputs": [
        {
          "output_type": "execute_result",
          "data": {
            "text/plain": [
              "13"
            ]
          },
          "metadata": {},
          "execution_count": 41
        }
      ]
    },
    {
      "cell_type": "code",
      "source": [
        "next(f)"
      ],
      "metadata": {
        "colab": {
          "base_uri": "https://localhost:8080/"
        },
        "id": "HxGjdX2SXtxS",
        "outputId": "7f82c0bd-7246-4c4b-bbed-39f8f4ebc5e6"
      },
      "execution_count": 42,
      "outputs": [
        {
          "output_type": "execute_result",
          "data": {
            "text/plain": [
              "21"
            ]
          },
          "metadata": {},
          "execution_count": 42
        }
      ]
    },
    {
      "cell_type": "code",
      "source": [
        "next(f)"
      ],
      "metadata": {
        "colab": {
          "base_uri": "https://localhost:8080/"
        },
        "id": "3MpRAGHxXvZm",
        "outputId": "d72748ea-20d4-4fc2-90ed-e1fad95ab183"
      },
      "execution_count": 43,
      "outputs": [
        {
          "output_type": "execute_result",
          "data": {
            "text/plain": [
              "34"
            ]
          },
          "metadata": {},
          "execution_count": 43
        }
      ]
    },
    {
      "cell_type": "markdown",
      "source": [
        "6. **Write a generator function in Python that yields the powers of 2 up to a given exponent.**"
      ],
      "metadata": {
        "id": "6A_KFlIEX0SO"
      }
    },
    {
      "cell_type": "code",
      "source": [
        "def power_of_two(n):\n",
        "    for i in range(n):\n",
        "       yield 2**i\n",
        "for i in power_of_two(10):\n",
        "    print(i)"
      ],
      "metadata": {
        "id": "z7fGCLkix0Kr",
        "colab": {
          "base_uri": "https://localhost:8080/"
        },
        "outputId": "ec9f3759-59cd-48c1-f477-e1676656139e"
      },
      "execution_count": 47,
      "outputs": [
        {
          "output_type": "stream",
          "name": "stdout",
          "text": [
            "1\n",
            "2\n",
            "4\n",
            "8\n",
            "16\n",
            "32\n",
            "64\n",
            "128\n",
            "256\n",
            "512\n"
          ]
        }
      ]
    },
    {
      "cell_type": "markdown",
      "source": [],
      "metadata": {
        "id": "NquZhAvEamqe"
      }
    },
    {
      "cell_type": "markdown",
      "source": [],
      "metadata": {
        "id": "2G2xpN1-tTYL"
      }
    },
    {
      "cell_type": "code",
      "source": [],
      "metadata": {
        "id": "NGMrVEV8oxX3"
      },
      "execution_count": null,
      "outputs": []
    },
    {
      "cell_type": "code",
      "source": [],
      "metadata": {
        "id": "pFxYxjM_Tid6"
      },
      "execution_count": null,
      "outputs": []
    }
  ]
}